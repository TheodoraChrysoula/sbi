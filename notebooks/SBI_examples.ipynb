{
 "cells": [
  {
   "cell_type": "markdown",
   "id": "7a15cfd4-0313-4f97-a8d6-c8005b028430",
   "metadata": {},
   "source": [
    "## ABC"
   ]
  },
  {
   "cell_type": "code",
   "execution_count": 1,
   "id": "14ba1ef4-baba-4b19-b910-3cb1c27228d8",
   "metadata": {},
   "outputs": [],
   "source": [
    "import sys \n",
    "from pathlib import Path\n",
    "\n",
    "# Define the path to the src directory\n",
    "src_path = Path().resolve().parent / 'src'\n",
    "\n",
    "# Add src to the Python path\n",
    "if src_path not in sys.path:\n",
    "    sys.path.append(str(src_path))\n",
    "\n",
    "# Check if src is in sys.path\n",
    "#print(f\"sys.path: {sys.path}\")"
   ]
  },
  {
   "cell_type": "code",
   "execution_count": 2,
   "id": "8b528058-3f60-45ce-96e7-a9cc5ceed6ea",
   "metadata": {},
   "outputs": [],
   "source": [
    "import numpy as np\n",
    "from simulators import prior, simulator, simulator2\n",
    "from models.abc import abc_inference"
   ]
  },
  {
   "cell_type": "code",
   "execution_count": 6,
   "id": "d56615a3-8ff9-48f9-94fd-201c5b43247f",
   "metadata": {},
   "outputs": [],
   "source": [
    "# Define the dimensions and the number of samples\n",
    "N = 100000\n",
    "dim = 2 # 2, 5, 10\n",
    "\n",
    "# Observation\n",
    "y_obs = np.array(0.3)\n",
    "# Use seed to have the same value for x in each run\n",
    "np.random.seed(42)\n",
    "x = np.random.uniform(-0.5, 0.5, size = (dim,))\n",
    "# threshold\n",
    "e = 0.01\n",
    "\n",
    "# Sampling thetas\n",
    "np.random.seed(None)\n",
    "theta_pr = prior(N, dim)\n",
    "\n",
    "# Select the simulator\n",
    "selected_sim = simulator2\n",
    "\n",
    "# List of the accepted samples\n",
    "samples_pos = abc_inference(y_obs, x, theta_pr, e, selected_sim)"
   ]
  },
  {
   "cell_type": "code",
   "execution_count": 7,
   "id": "014d2f27-6aa5-4421-ae87-128bd96173b8",
   "metadata": {},
   "outputs": [
    {
     "data": {
      "text/plain": [
       "(1098, 2)"
      ]
     },
     "execution_count": 7,
     "metadata": {},
     "output_type": "execute_result"
    }
   ],
   "source": [
    "samples_pos.shape #simulator: 2:1082 , 5:947 , 10:678, 20:493, simulator2: 2: 1084, 5:966, 10: 665, 20: 489"
   ]
  },
  {
   "cell_type": "code",
   "execution_count": 8,
   "id": "18e4e1de-e04a-47ff-9a55-8d53633f8c82",
   "metadata": {},
   "outputs": [
    {
     "data": {
      "text/plain": [
       "array([[0.7983313, 1.0521845],\n",
       "       [0.5350693, 0.6302228]], dtype=float32)"
      ]
     },
     "execution_count": 8,
     "metadata": {},
     "output_type": "execute_result"
    }
   ],
   "source": [
    "samples_pos[:2, :]"
   ]
  },
  {
   "cell_type": "markdown",
   "id": "80e7f18a-8839-404b-86e5-d0df12cc3cd1",
   "metadata": {},
   "source": [
    "## OMC"
   ]
  },
  {
   "cell_type": "code",
   "execution_count": 2,
   "id": "9d497634-f734-4cce-8200-94924d6383f9",
   "metadata": {},
   "outputs": [],
   "source": [
    "import numpy as np\n",
    "from simulators import prior, simulator_omc\n",
    "from models.omc import OMCInference"
   ]
  },
  {
   "cell_type": "code",
   "execution_count": 4,
   "id": "ae131687-4c38-46c3-9d36-7087e6baec78",
   "metadata": {},
   "outputs": [
    {
     "name": "stdout",
     "output_type": "stream",
     "text": [
      "The number of samples is: 10000\n",
      "The mean value of the posterior distribution is: [ 0.00538229 -0.02723251 -0.00138771  0.01190336 -0.01144511]\n",
      "The standard deviation of the posterior distribution is: [1.15842172 1.15358599 1.15297844 1.15212796 1.15044569]\n"
     ]
    }
   ],
   "source": [
    "# Define the dimensions and number of samples\n",
    "N=10000\n",
    "theta_dim, u_dim = 5, 5 # Dimensions of theta, # Dimension of nuisance variables\n",
    "\n",
    "# Observation\n",
    "y_obs = np.full(theta_dim, 0.3) # Assuming y has the same dimension as simulator output\n",
    "np.random.seed(42)\n",
    "\n",
    "# Fixed x from a uniform distribution\n",
    "x_fixed = np.random.uniform(-1,1, theta_dim)\n",
    "\n",
    "# Sampling thetas from the prior\n",
    "theta_pr = prior(N, theta_dim)\n",
    "\n",
    "# Run Inference \n",
    "omc_inference = OMCInference(theta_pr, y_obs, x_fixed, u_dim)\n",
    "samples_pos, weights = omc_inference.infer()\n",
    "print(f\"The number of samples is: {samples_pos.shape[0]}\")\n",
    "\n",
    "# Calculate weighted mean and std for each dimnensioin of theta\n",
    "weighted_mean = np.average(samples_pos, weights = weights, axis=0)\n",
    "weighted_variance = np.average((samples_pos - weighted_mean)**2, weights = weights, axis=0)\n",
    "weighted_std = np.sqrt(weighted_variance)\n",
    "\n",
    "print(f\"The mean value of the posterior distribution is: {weighted_mean}\")\n",
    "print(f\"The standard deviation of the posterior distribution is: {weighted_std}\")"
   ]
  },
  {
   "cell_type": "code",
   "execution_count": 5,
   "id": "abb7e386-cea4-41f6-8290-7954f5fda6c1",
   "metadata": {},
   "outputs": [
    {
     "data": {
      "text/plain": [
       "(10000,)"
      ]
     },
     "execution_count": 5,
     "metadata": {},
     "output_type": "execute_result"
    }
   ],
   "source": [
    "weights.shape"
   ]
  },
  {
   "cell_type": "code",
   "execution_count": 7,
   "id": "31d92e08-d0a5-4ba8-ab63-f66d742506db",
   "metadata": {},
   "outputs": [
    {
     "data": {
      "text/plain": [
       "array([0.3, 0.3, 0.3, 0.3, 0.3])"
      ]
     },
     "execution_count": 7,
     "metadata": {},
     "output_type": "execute_result"
    }
   ],
   "source": [
    "y_obs"
   ]
  },
  {
   "cell_type": "code",
   "execution_count": 9,
   "id": "b1e58d5c-5fd2-4b7e-bfd4-b72205284b4b",
   "metadata": {},
   "outputs": [
    {
     "data": {
      "text/plain": [
       "(10000, 5)"
      ]
     },
     "execution_count": 9,
     "metadata": {},
     "output_type": "execute_result"
    }
   ],
   "source": [
    "theta_pr.shape"
   ]
  },
  {
   "cell_type": "code",
   "execution_count": 10,
   "id": "8416515a-8e95-4d41-ac09-a7126731fe6c",
   "metadata": {},
   "outputs": [
    {
     "name": "stdout",
     "output_type": "stream",
     "text": [
      "The number of the non-negative samples are: (10000, 5)\n"
     ]
    }
   ],
   "source": [
    "non_zero_mask = weights>0\n",
    "filtered_samples = samples_pos[non_zero_mask]\n",
    "filtered_weights = weights[non_zero_mask]\n",
    "print(f\"The number of the non-negative samples are: {filtered_samples.shape}\")"
   ]
  },
  {
   "cell_type": "code",
   "execution_count": null,
   "id": "37203262-9393-4f1f-9ce7-f6103c71b58f",
   "metadata": {},
   "outputs": [],
   "source": []
  }
 ],
 "metadata": {
  "kernelspec": {
   "display_name": "Python 3 (ipykernel)",
   "language": "python",
   "name": "python3"
  },
  "language_info": {
   "codemirror_mode": {
    "name": "ipython",
    "version": 3
   },
   "file_extension": ".py",
   "mimetype": "text/x-python",
   "name": "python",
   "nbconvert_exporter": "python",
   "pygments_lexer": "ipython3",
   "version": "3.10.15"
  }
 },
 "nbformat": 4,
 "nbformat_minor": 5
}
