{
 "cells": [
  {
   "cell_type": "markdown",
   "id": "7a15cfd4-0313-4f97-a8d6-c8005b028430",
   "metadata": {},
   "source": [
    "## ABC"
   ]
  },
  {
   "cell_type": "code",
   "execution_count": 1,
   "id": "14ba1ef4-baba-4b19-b910-3cb1c27228d8",
   "metadata": {},
   "outputs": [],
   "source": [
    "import sys \n",
    "from pathlib import Path\n",
    "\n",
    "# Define the path to the src directory\n",
    "src_path = Path().resolve().parent / 'src'\n",
    "\n",
    "# Add src to the Python path\n",
    "if src_path not in sys.path:\n",
    "    sys.path.append(str(src_path))\n",
    "\n",
    "# Check if src is in sys.path\n",
    "#print(f\"sys.path: {sys.path}\")"
   ]
  },
  {
   "cell_type": "code",
   "execution_count": 2,
   "id": "8b528058-3f60-45ce-96e7-a9cc5ceed6ea",
   "metadata": {},
   "outputs": [],
   "source": [
    "import numpy as np\n",
    "from simulators import prior, simulator, simulator2\n",
    "from models.abc import abc_inference"
   ]
  },
  {
   "cell_type": "code",
   "execution_count": 12,
   "id": "d56615a3-8ff9-48f9-94fd-201c5b43247f",
   "metadata": {},
   "outputs": [],
   "source": [
    "# Define the dimensions and the number of samples\n",
    "N = 100000\n",
    "dim = 20 # 2, 5, 10\n",
    "\n",
    "# Observation\n",
    "y_obs = np.array(0.3)\n",
    "# Use seed to have the same value for x in each run\n",
    "np.random.seed(42)\n",
    "x = np.random.uniform(-0.5, 0.5, size = (dim,))\n",
    "# threshold\n",
    "e = 0.01\n",
    "\n",
    "# Sampling thetas\n",
    "np.random.seed(None)\n",
    "theta_pr = prior(N, dim)\n",
    "\n",
    "# Select the simulator\n",
    "selected_sim = simulator2\n",
    "\n",
    "# List of the accepted samples\n",
    "samples_pos = abc_inference(y_obs, x, theta_pr, e, selected_sim)"
   ]
  },
  {
   "cell_type": "code",
   "execution_count": 13,
   "id": "014d2f27-6aa5-4421-ae87-128bd96173b8",
   "metadata": {},
   "outputs": [
    {
     "data": {
      "text/plain": [
       "(489, 20)"
      ]
     },
     "execution_count": 13,
     "metadata": {},
     "output_type": "execute_result"
    }
   ],
   "source": [
    "samples_pos.shape #simulator: 2:1082 , 5:947 , 10:678, 20:493, simulator2: 2: 1084, 5:966, 10: 665, 20: 489"
   ]
  },
  {
   "cell_type": "code",
   "execution_count": 10,
   "id": "18e4e1de-e04a-47ff-9a55-8d53633f8c82",
   "metadata": {},
   "outputs": [
    {
     "data": {
      "text/plain": [
       "array([[ 1.0852615 ,  0.96125567],\n",
       "       [-1.7331173 ,  0.18596745]], dtype=float32)"
      ]
     },
     "execution_count": 10,
     "metadata": {},
     "output_type": "execute_result"
    }
   ],
   "source": [
    "samples_pos[:2, :]"
   ]
  },
  {
   "cell_type": "code",
   "execution_count": null,
   "id": "842c21a2-7cb5-4035-b8f5-d4763f55749a",
   "metadata": {},
   "outputs": [],
   "source": []
  }
 ],
 "metadata": {
  "kernelspec": {
   "display_name": "Python 3 (ipykernel)",
   "language": "python",
   "name": "python3"
  },
  "language_info": {
   "codemirror_mode": {
    "name": "ipython",
    "version": 3
   },
   "file_extension": ".py",
   "mimetype": "text/x-python",
   "name": "python",
   "nbconvert_exporter": "python",
   "pygments_lexer": "ipython3",
   "version": "3.10.15"
  }
 },
 "nbformat": 4,
 "nbformat_minor": 5
}
